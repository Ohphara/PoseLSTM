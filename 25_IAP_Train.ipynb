{
  "nbformat": 4,
  "nbformat_minor": 0,
  "metadata": {
    "colab": {
      "provenance": [],
      "machine_shape": "hm",
      "gpuType": "A100",
      "authorship_tag": "ABX9TyOFmXwK9xhoYjbs4Kh5EVyD",
      "include_colab_link": true
    },
    "kernelspec": {
      "name": "python3",
      "display_name": "Python 3"
    },
    "language_info": {
      "name": "python"
    },
    "accelerator": "GPU"
  },
  "cells": [
    {
      "cell_type": "markdown",
      "metadata": {
        "id": "view-in-github",
        "colab_type": "text"
      },
      "source": [
        "<a href=\"https://colab.research.google.com/github/Ohphara/PoseLSTM/blob/main/25_IAP_Train.ipynb\" target=\"_parent\"><img src=\"https://colab.research.google.com/assets/colab-badge.svg\" alt=\"Open In Colab\"/></a>"
      ]
    },
    {
      "cell_type": "markdown",
      "source": [
        "# 0. Drive Mount"
      ],
      "metadata": {
        "id": "KCJBvHLa8Ico"
      }
    },
    {
      "cell_type": "code",
      "execution_count": null,
      "metadata": {
        "colab": {
          "base_uri": "https://localhost:8080/"
        },
        "id": "3Ue8sQzb4K-m",
        "outputId": "e9adb7e9-9fcd-4ff2-ee9b-1a7512d1c2b9"
      },
      "outputs": [
        {
          "output_type": "stream",
          "name": "stdout",
          "text": [
            "Drive already mounted at /content/drive; to attempt to forcibly remount, call drive.mount(\"/content/drive\", force_remount=True).\n"
          ]
        }
      ],
      "source": [
        "from google.colab import drive\n",
        "\n",
        "drive.mount('/content/drive')"
      ]
    },
    {
      "cell_type": "markdown",
      "source": [
        "# 1. Dataload to VM Machine"
      ],
      "metadata": {
        "id": "uKak-n_l8C62"
      }
    },
    {
      "cell_type": "code",
      "source": [
        "from pathlib import Path\n",
        "import shutil\n",
        "from tqdm import tqdm\n",
        "\n",
        "# 압축된 zip 파일 리스트 (위에서 사용한 경로들 그대로 넣으세요)\n",
        "zip_files = [\n",
        "  \"/content/drive/MyDrive/25_IAP/238-2.실내(편의점, 매장) 사람 이상행동 데이터/01-1.정식개방데이터/Training/01.원천데이터/TS_03.이상행동_07.전도_csv.zip\",\n",
        "  \"/content/drive/MyDrive/25_IAP/238-2.실내(편의점, 매장) 사람 이상행동 데이터/01-1.정식개방데이터/Training/01.원천데이터/TS_03.이상행동_08.파손_csv.zip\",\n",
        "  \"/content/drive/MyDrive/25_IAP/238-2.실내(편의점, 매장) 사람 이상행동 데이터/01-1.정식개방데이터/Training/01.원천데이터/TS_03.이상행동_12.절도_csv.zip\",\n",
        "  \"/content/drive/MyDrive/25_IAP/238-2.실내(편의점, 매장) 사람 이상행동 데이터/01-1.정식개방데이터/Training/01.원천데이터/TS_03.이상행동_13.폭행_csv.zip\",\n",
        "  \"/content/drive/MyDrive/25_IAP/238-2.실내(편의점, 매장) 사람 이상행동 데이터/01-1.정식개방데이터/Training/01.원천데이터/TS_03.이상행동_14.교통약자_csv.zip\",\n",
        "  \"/content/drive/MyDrive/25_IAP/238-2.실내(편의점, 매장) 사람 이상행동 데이터/01-1.정식개방데이터/Training/02.라벨링데이터/TL_03.이상행동_07.전도_csv.zip\",\n",
        "  \"/content/drive/MyDrive/25_IAP/238-2.실내(편의점, 매장) 사람 이상행동 데이터/01-1.정식개방데이터/Training/02.라벨링데이터/TL_03.이상행동_08.파손_csv.zip\",\n",
        "  \"/content/drive/MyDrive/25_IAP/238-2.실내(편의점, 매장) 사람 이상행동 데이터/01-1.정식개방데이터/Training/02.라벨링데이터/TL_03.이상행동_12.절도_csv.zip\",\n",
        "  \"/content/drive/MyDrive/25_IAP/238-2.실내(편의점, 매장) 사람 이상행동 데이터/01-1.정식개방데이터/Training/02.라벨링데이터/TL_03.이상행동_13.폭행_csv.zip\",\n",
        "  \"/content/drive/MyDrive/25_IAP/238-2.실내(편의점, 매장) 사람 이상행동 데이터/01-1.정식개방데이터/Training/02.라벨링데이터/TL_03.이상행동_14.교통약자_csv.zip\",\n",
        "  \"/content/drive/MyDrive/25_IAP/238-2.실내(편의점, 매장) 사람 이상행동 데이터/01-1.정식개방데이터/Validation/01.원천데이터/VS_03.이상행동_07.전도_csv.zip\",\n",
        "  \"/content/drive/MyDrive/25_IAP/238-2.실내(편의점, 매장) 사람 이상행동 데이터/01-1.정식개방데이터/Validation/01.원천데이터/VS_03.이상행동_08.파손_csv.zip\",\n",
        "  \"/content/drive/MyDrive/25_IAP/238-2.실내(편의점, 매장) 사람 이상행동 데이터/01-1.정식개방데이터/Validation/01.원천데이터/VS_03.이상행동_12.절도_csv.zip\",\n",
        "  \"/content/drive/MyDrive/25_IAP/238-2.실내(편의점, 매장) 사람 이상행동 데이터/01-1.정식개방데이터/Validation/01.원천데이터/VS_03.이상행동_13.폭행_csv.zip\",\n",
        "  \"/content/drive/MyDrive/25_IAP/238-2.실내(편의점, 매장) 사람 이상행동 데이터/01-1.정식개방데이터/Validation/01.원천데이터/VS_03.이상행동_14.교통약자_csv.zip\",\n",
        "  \"/content/drive/MyDrive/25_IAP/238-2.실내(편의점, 매장) 사람 이상행동 데이터/01-1.정식개방데이터/Validation/02.라벨링데이터/VL_03.이상행동_07.전도_csv.zip\",\n",
        "  \"/content/drive/MyDrive/25_IAP/238-2.실내(편의점, 매장) 사람 이상행동 데이터/01-1.정식개방데이터/Validation/02.라벨링데이터/VL_03.이상행동_08.파손_csv.zip\",\n",
        "  \"/content/drive/MyDrive/25_IAP/238-2.실내(편의점, 매장) 사람 이상행동 데이터/01-1.정식개방데이터/Validation/02.라벨링데이터/VL_03.이상행동_12.절도_csv.zip\",\n",
        "  \"/content/drive/MyDrive/25_IAP/238-2.실내(편의점, 매장) 사람 이상행동 데이터/01-1.정식개방데이터/Validation/02.라벨링데이터/VL_03.이상행동_13.폭행_csv.zip\",\n",
        "  \"/content/drive/MyDrive/25_IAP/238-2.실내(편의점, 매장) 사람 이상행동 데이터/01-1.정식개방데이터/Validation/02.라벨링데이터/VL_03.이상행동_14.교통약자_csv.zip\",\n",
        "]\n",
        "\n",
        "# VM 내 복사 대상 경로\n",
        "vm_dir = Path(\"/content/VM\")\n",
        "vm_dir.mkdir(parents=True, exist_ok=True)\n",
        "\n",
        "for zfile in tqdm(zip_files, desc=\"zip 파일 VM으로 복사중\"):\n",
        "    zfile_path = Path(zfile)\n",
        "    if not zfile_path.exists():\n",
        "        print(f\"[경고] 존재하지 않음: {zfile_path}\")\n",
        "        continue\n",
        "    # 압축파일명만 추출해서 /content/VM 밑에 저장\n",
        "    target_path = vm_dir / zfile_path.name\n",
        "    shutil.copy2(zfile_path, target_path)\n",
        "    print(f\"{zfile_path} -> {target_path}\")\n",
        "\n",
        "print(\"== 전체 복사 완료 ==\")\n"
      ],
      "metadata": {
        "colab": {
          "base_uri": "https://localhost:8080/"
        },
        "id": "epwxVktm8dkO",
        "outputId": "c39b07bd-2a5c-41af-9784-099583f5348e"
      },
      "execution_count": null,
      "outputs": [
        {
          "output_type": "stream",
          "name": "stderr",
          "text": [
            "zip 파일 VM으로 복사중:   5%|▌         | 1/20 [00:03<01:00,  3.19s/it]"
          ]
        },
        {
          "output_type": "stream",
          "name": "stdout",
          "text": [
            "/content/drive/MyDrive/25_IAP/238-2.실내(편의점, 매장) 사람 이상행동 데이터/01-1.정식개방데이터/Training/01.원천데이터/TS_03.이상행동_07.전도_csv.zip -> /content/VM/TS_03.이상행동_07.전도_csv.zip\n"
          ]
        },
        {
          "output_type": "stream",
          "name": "stderr",
          "text": [
            "\rzip 파일 VM으로 복사중:  10%|█         | 2/20 [00:03<00:28,  1.58s/it]"
          ]
        },
        {
          "output_type": "stream",
          "name": "stdout",
          "text": [
            "/content/drive/MyDrive/25_IAP/238-2.실내(편의점, 매장) 사람 이상행동 데이터/01-1.정식개방데이터/Training/01.원천데이터/TS_03.이상행동_08.파손_csv.zip -> /content/VM/TS_03.이상행동_08.파손_csv.zip\n"
          ]
        },
        {
          "output_type": "stream",
          "name": "stderr",
          "text": [
            "\rzip 파일 VM으로 복사중:  15%|█▌        | 3/20 [00:04<00:18,  1.07s/it]"
          ]
        },
        {
          "output_type": "stream",
          "name": "stdout",
          "text": [
            "/content/drive/MyDrive/25_IAP/238-2.실내(편의점, 매장) 사람 이상행동 데이터/01-1.정식개방데이터/Training/01.원천데이터/TS_03.이상행동_12.절도_csv.zip -> /content/VM/TS_03.이상행동_12.절도_csv.zip\n"
          ]
        },
        {
          "output_type": "stream",
          "name": "stderr",
          "text": [
            "\rzip 파일 VM으로 복사중:  20%|██        | 4/20 [00:04<00:13,  1.20it/s]"
          ]
        },
        {
          "output_type": "stream",
          "name": "stdout",
          "text": [
            "/content/drive/MyDrive/25_IAP/238-2.실내(편의점, 매장) 사람 이상행동 데이터/01-1.정식개방데이터/Training/01.원천데이터/TS_03.이상행동_13.폭행_csv.zip -> /content/VM/TS_03.이상행동_13.폭행_csv.zip\n"
          ]
        },
        {
          "output_type": "stream",
          "name": "stderr",
          "text": [
            "\rzip 파일 VM으로 복사중:  25%|██▌       | 5/20 [00:05<00:10,  1.42it/s]"
          ]
        },
        {
          "output_type": "stream",
          "name": "stdout",
          "text": [
            "/content/drive/MyDrive/25_IAP/238-2.실내(편의점, 매장) 사람 이상행동 데이터/01-1.정식개방데이터/Training/01.원천데이터/TS_03.이상행동_14.교통약자_csv.zip -> /content/VM/TS_03.이상행동_14.교통약자_csv.zip\n"
          ]
        },
        {
          "output_type": "stream",
          "name": "stderr",
          "text": [
            "\rzip 파일 VM으로 복사중:  30%|███       | 6/20 [00:05<00:08,  1.73it/s]"
          ]
        },
        {
          "output_type": "stream",
          "name": "stdout",
          "text": [
            "/content/drive/MyDrive/25_IAP/238-2.실내(편의점, 매장) 사람 이상행동 데이터/01-1.정식개방데이터/Training/02.라벨링데이터/TL_03.이상행동_07.전도_csv.zip -> /content/VM/TL_03.이상행동_07.전도_csv.zip\n"
          ]
        },
        {
          "output_type": "stream",
          "name": "stderr",
          "text": [
            "\rzip 파일 VM으로 복사중:  35%|███▌      | 7/20 [00:06<00:10,  1.27it/s]"
          ]
        },
        {
          "output_type": "stream",
          "name": "stdout",
          "text": [
            "/content/drive/MyDrive/25_IAP/238-2.실내(편의점, 매장) 사람 이상행동 데이터/01-1.정식개방데이터/Training/02.라벨링데이터/TL_03.이상행동_08.파손_csv.zip -> /content/VM/TL_03.이상행동_08.파손_csv.zip\n"
          ]
        },
        {
          "output_type": "stream",
          "name": "stderr",
          "text": [
            "\rzip 파일 VM으로 복사중:  40%|████      | 8/20 [00:06<00:07,  1.55it/s]"
          ]
        },
        {
          "output_type": "stream",
          "name": "stdout",
          "text": [
            "/content/drive/MyDrive/25_IAP/238-2.실내(편의점, 매장) 사람 이상행동 데이터/01-1.정식개방데이터/Training/02.라벨링데이터/TL_03.이상행동_12.절도_csv.zip -> /content/VM/TL_03.이상행동_12.절도_csv.zip\n"
          ]
        },
        {
          "output_type": "stream",
          "name": "stderr",
          "text": [
            "\rzip 파일 VM으로 복사중:  45%|████▌     | 9/20 [00:07<00:05,  1.90it/s]"
          ]
        },
        {
          "output_type": "stream",
          "name": "stdout",
          "text": [
            "/content/drive/MyDrive/25_IAP/238-2.실내(편의점, 매장) 사람 이상행동 데이터/01-1.정식개방데이터/Training/02.라벨링데이터/TL_03.이상행동_13.폭행_csv.zip -> /content/VM/TL_03.이상행동_13.폭행_csv.zip\n"
          ]
        },
        {
          "output_type": "stream",
          "name": "stderr",
          "text": [
            "\rzip 파일 VM으로 복사중:  50%|█████     | 10/20 [00:07<00:05,  1.98it/s]"
          ]
        },
        {
          "output_type": "stream",
          "name": "stdout",
          "text": [
            "/content/drive/MyDrive/25_IAP/238-2.실내(편의점, 매장) 사람 이상행동 데이터/01-1.정식개방데이터/Training/02.라벨링데이터/TL_03.이상행동_14.교통약자_csv.zip -> /content/VM/TL_03.이상행동_14.교통약자_csv.zip\n"
          ]
        },
        {
          "output_type": "stream",
          "name": "stderr",
          "text": [
            "\rzip 파일 VM으로 복사중:  55%|█████▌    | 11/20 [00:08<00:05,  1.67it/s]"
          ]
        },
        {
          "output_type": "stream",
          "name": "stdout",
          "text": [
            "/content/drive/MyDrive/25_IAP/238-2.실내(편의점, 매장) 사람 이상행동 데이터/01-1.정식개방데이터/Validation/01.원천데이터/VS_03.이상행동_07.전도_csv.zip -> /content/VM/VS_03.이상행동_07.전도_csv.zip\n"
          ]
        },
        {
          "output_type": "stream",
          "name": "stderr",
          "text": [
            "\rzip 파일 VM으로 복사중:  60%|██████    | 12/20 [00:09<00:06,  1.25it/s]"
          ]
        },
        {
          "output_type": "stream",
          "name": "stdout",
          "text": [
            "/content/drive/MyDrive/25_IAP/238-2.실내(편의점, 매장) 사람 이상행동 데이터/01-1.정식개방데이터/Validation/01.원천데이터/VS_03.이상행동_08.파손_csv.zip -> /content/VM/VS_03.이상행동_08.파손_csv.zip\n"
          ]
        },
        {
          "output_type": "stream",
          "name": "stderr",
          "text": [
            "\rzip 파일 VM으로 복사중:  65%|██████▌   | 13/20 [00:10<00:04,  1.50it/s]"
          ]
        },
        {
          "output_type": "stream",
          "name": "stdout",
          "text": [
            "/content/drive/MyDrive/25_IAP/238-2.실내(편의점, 매장) 사람 이상행동 데이터/01-1.정식개방데이터/Validation/01.원천데이터/VS_03.이상행동_12.절도_csv.zip -> /content/VM/VS_03.이상행동_12.절도_csv.zip\n"
          ]
        },
        {
          "output_type": "stream",
          "name": "stderr",
          "text": [
            "\rzip 파일 VM으로 복사중:  70%|███████   | 14/20 [00:10<00:03,  1.78it/s]"
          ]
        },
        {
          "output_type": "stream",
          "name": "stdout",
          "text": [
            "/content/drive/MyDrive/25_IAP/238-2.실내(편의점, 매장) 사람 이상행동 데이터/01-1.정식개방데이터/Validation/01.원천데이터/VS_03.이상행동_13.폭행_csv.zip -> /content/VM/VS_03.이상행동_13.폭행_csv.zip\n"
          ]
        },
        {
          "output_type": "stream",
          "name": "stderr",
          "text": [
            "\rzip 파일 VM으로 복사중:  75%|███████▌  | 15/20 [00:10<00:02,  1.95it/s]"
          ]
        },
        {
          "output_type": "stream",
          "name": "stdout",
          "text": [
            "/content/drive/MyDrive/25_IAP/238-2.실내(편의점, 매장) 사람 이상행동 데이터/01-1.정식개방데이터/Validation/01.원천데이터/VS_03.이상행동_14.교통약자_csv.zip -> /content/VM/VS_03.이상행동_14.교통약자_csv.zip\n"
          ]
        },
        {
          "output_type": "stream",
          "name": "stderr",
          "text": [
            "\rzip 파일 VM으로 복사중:  80%|████████  | 16/20 [00:11<00:02,  1.72it/s]"
          ]
        },
        {
          "output_type": "stream",
          "name": "stdout",
          "text": [
            "/content/drive/MyDrive/25_IAP/238-2.실내(편의점, 매장) 사람 이상행동 데이터/01-1.정식개방데이터/Validation/02.라벨링데이터/VL_03.이상행동_07.전도_csv.zip -> /content/VM/VL_03.이상행동_07.전도_csv.zip\n"
          ]
        },
        {
          "output_type": "stream",
          "name": "stderr",
          "text": [
            "\rzip 파일 VM으로 복사중:  85%|████████▌ | 17/20 [00:11<00:01,  2.07it/s]"
          ]
        },
        {
          "output_type": "stream",
          "name": "stdout",
          "text": [
            "/content/drive/MyDrive/25_IAP/238-2.실내(편의점, 매장) 사람 이상행동 데이터/01-1.정식개방데이터/Validation/02.라벨링데이터/VL_03.이상행동_08.파손_csv.zip -> /content/VM/VL_03.이상행동_08.파손_csv.zip\n"
          ]
        },
        {
          "output_type": "stream",
          "name": "stderr",
          "text": [
            "\rzip 파일 VM으로 복사중:  90%|█████████ | 18/20 [00:12<00:00,  2.48it/s]"
          ]
        },
        {
          "output_type": "stream",
          "name": "stdout",
          "text": [
            "/content/drive/MyDrive/25_IAP/238-2.실내(편의점, 매장) 사람 이상행동 데이터/01-1.정식개방데이터/Validation/02.라벨링데이터/VL_03.이상행동_12.절도_csv.zip -> /content/VM/VL_03.이상행동_12.절도_csv.zip\n"
          ]
        },
        {
          "output_type": "stream",
          "name": "stderr",
          "text": [
            "\rzip 파일 VM으로 복사중:  95%|█████████▌| 19/20 [00:12<00:00,  2.90it/s]"
          ]
        },
        {
          "output_type": "stream",
          "name": "stdout",
          "text": [
            "/content/drive/MyDrive/25_IAP/238-2.실내(편의점, 매장) 사람 이상행동 데이터/01-1.정식개방데이터/Validation/02.라벨링데이터/VL_03.이상행동_13.폭행_csv.zip -> /content/VM/VL_03.이상행동_13.폭행_csv.zip\n"
          ]
        },
        {
          "output_type": "stream",
          "name": "stderr",
          "text": [
            "zip 파일 VM으로 복사중: 100%|██████████| 20/20 [00:12<00:00,  1.60it/s]"
          ]
        },
        {
          "output_type": "stream",
          "name": "stdout",
          "text": [
            "/content/drive/MyDrive/25_IAP/238-2.실내(편의점, 매장) 사람 이상행동 데이터/01-1.정식개방데이터/Validation/02.라벨링데이터/VL_03.이상행동_14.교통약자_csv.zip -> /content/VM/VL_03.이상행동_14.교통약자_csv.zip\n",
            "== 전체 복사 완료 ==\n"
          ]
        },
        {
          "output_type": "stream",
          "name": "stderr",
          "text": [
            "\n"
          ]
        }
      ]
    },
    {
      "cell_type": "code",
      "source": [
        "import zipfile\n",
        "\n",
        "for zfile in tqdm(vm_dir.glob(\"*.zip\"), desc=\"압축 해제중\"):\n",
        "    with zipfile.ZipFile(zfile, 'r') as zip_ref:\n",
        "        # 압축을 VM/폴더명/ 으로 각각 풀고 싶으면 아래처럼:\n",
        "        dest = vm_dir / zfile.stem\n",
        "        dest.mkdir(parents=True, exist_ok=True)\n",
        "        zip_ref.extractall(dest)\n",
        "        print(f\"{zfile} -> {dest}\")\n",
        "\n",
        "print(\"== 전체 압축 해제 완료 ==\")"
      ],
      "metadata": {
        "colab": {
          "base_uri": "https://localhost:8080/"
        },
        "id": "8j2mD0Q7spXB",
        "outputId": "4617052b-28f5-4005-8928-c8758e800011"
      },
      "execution_count": null,
      "outputs": [
        {
          "output_type": "stream",
          "name": "stderr",
          "text": [
            "압축 해제중: 2it [00:00, 17.56it/s]"
          ]
        },
        {
          "output_type": "stream",
          "name": "stdout",
          "text": [
            "/content/VM/VS_03.이상행동_12.절도_csv.zip -> /content/VM/VS_03.이상행동_12.절도_csv\n",
            "/content/VM/TL_03.이상행동_08.파손_csv.zip -> /content/VM/TL_03.이상행동_08.파손_csv\n",
            "/content/VM/VS_03.이상행동_14.교통약자_csv.zip -> /content/VM/VS_03.이상행동_14.교통약자_csv\n",
            "/content/VM/VL_03.이상행동_12.절도_csv.zip -> /content/VM/VL_03.이상행동_12.절도_csv\n",
            "/content/VM/VL_03.이상행동_14.교통약자_csv.zip -> /content/VM/VL_03.이상행동_14.교통약자_csv\n"
          ]
        },
        {
          "output_type": "stream",
          "name": "stderr",
          "text": [
            "\r압축 해제중: 6it [00:00, 23.45it/s]"
          ]
        },
        {
          "output_type": "stream",
          "name": "stdout",
          "text": [
            "/content/VM/TL_03.이상행동_07.전도_csv.zip -> /content/VM/TL_03.이상행동_07.전도_csv\n",
            "/content/VM/VS_03.이상행동_13.폭행_csv.zip -> /content/VM/VS_03.이상행동_13.폭행_csv\n",
            "/content/VM/VS_03.이상행동_07.전도_csv.zip -> /content/VM/VS_03.이상행동_07.전도_csv\n"
          ]
        },
        {
          "output_type": "stream",
          "name": "stderr",
          "text": [
            "\r압축 해제중: 9it [00:00, 18.17it/s]"
          ]
        },
        {
          "output_type": "stream",
          "name": "stdout",
          "text": [
            "/content/VM/TL_03.이상행동_14.교통약자_csv.zip -> /content/VM/TL_03.이상행동_14.교통약자_csv\n"
          ]
        },
        {
          "output_type": "stream",
          "name": "stderr",
          "text": [
            "\r압축 해제중: 11it [00:01,  7.85it/s]"
          ]
        },
        {
          "output_type": "stream",
          "name": "stdout",
          "text": [
            "/content/VM/TS_03.이상행동_14.교통약자_csv.zip -> /content/VM/TS_03.이상행동_14.교통약자_csv\n",
            "/content/VM/VL_03.이상행동_08.파손_csv.zip -> /content/VM/VL_03.이상행동_08.파손_csv\n"
          ]
        },
        {
          "output_type": "stream",
          "name": "stderr",
          "text": [
            "\r압축 해제중: 13it [00:01,  4.75it/s]"
          ]
        },
        {
          "output_type": "stream",
          "name": "stdout",
          "text": [
            "/content/VM/TS_03.이상행동_13.폭행_csv.zip -> /content/VM/TS_03.이상행동_13.폭행_csv\n",
            "/content/VM/TL_03.이상행동_12.절도_csv.zip -> /content/VM/TL_03.이상행동_12.절도_csv\n"
          ]
        },
        {
          "output_type": "stream",
          "name": "stderr",
          "text": [
            "\r압축 해제중: 14it [00:02,  3.98it/s]"
          ]
        },
        {
          "output_type": "stream",
          "name": "stdout",
          "text": [
            "/content/VM/TS_03.이상행동_08.파손_csv.zip -> /content/VM/TS_03.이상행동_08.파손_csv\n"
          ]
        },
        {
          "output_type": "stream",
          "name": "stderr",
          "text": [
            "\r압축 해제중: 15it [00:02,  3.36it/s]"
          ]
        },
        {
          "output_type": "stream",
          "name": "stdout",
          "text": [
            "/content/VM/TS_03.이상행동_12.절도_csv.zip -> /content/VM/TS_03.이상행동_12.절도_csv\n",
            "/content/VM/VL_03.이상행동_07.전도_csv.zip -> /content/VM/VL_03.이상행동_07.전도_csv\n",
            "/content/VM/VL_03.이상행동_13.폭행_csv.zip -> /content/VM/VL_03.이상행동_13.폭행_csv\n"
          ]
        },
        {
          "output_type": "stream",
          "name": "stderr",
          "text": [
            "압축 해제중: 20it [00:03,  5.80it/s]"
          ]
        },
        {
          "output_type": "stream",
          "name": "stdout",
          "text": [
            "/content/VM/TS_03.이상행동_07.전도_csv.zip -> /content/VM/TS_03.이상행동_07.전도_csv\n",
            "/content/VM/TL_03.이상행동_13.폭행_csv.zip -> /content/VM/TL_03.이상행동_13.폭행_csv\n",
            "/content/VM/VS_03.이상행동_08.파손_csv.zip -> /content/VM/VS_03.이상행동_08.파손_csv\n",
            "== 전체 압축 해제 완료 ==\n"
          ]
        },
        {
          "output_type": "stream",
          "name": "stderr",
          "text": [
            "\n"
          ]
        }
      ]
    },
    {
      "cell_type": "markdown",
      "source": [
        "# 2. Dataset & Dataloader"
      ],
      "metadata": {
        "id": "FYRPsqTetJ7V"
      }
    },
    {
      "cell_type": "markdown",
      "source": [
        "## Imports & Config"
      ],
      "metadata": {
        "id": "4pgcIcmEdHk1"
      }
    },
    {
      "cell_type": "code",
      "source": [
        "import torch\n",
        "import torch.nn as nn\n",
        "import torch.optim as optim\n",
        "from torch.utils.data import Dataset, DataLoader, ConcatDataset\n",
        "import numpy as np\n",
        "import pandas as pd\n",
        "import random\n",
        "\n",
        "# reproducibility\n",
        "torch.manual_seed(42)\n",
        "np.random.seed(42)\n",
        "random.seed(42)\n",
        "\n",
        "# config\n",
        "config = {\n",
        "    \"input_dim\": 102,\n",
        "    \"hidden_dim\": 128,\n",
        "    \"num_layers\": 1,\n",
        "    \"num_classes\": 6,\n",
        "    \"dropout\": 0.3,\n",
        "    \"lr\": 0.001,\n",
        "    \"batch_size\": 32,\n",
        "    \"num_epochs\": 30,\n",
        "    \"device\": \"cuda\" if torch.cuda.is_available() else \"cpu\"\n",
        "}"
      ],
      "metadata": {
        "id": "TzhFmkckdF-N"
      },
      "execution_count": null,
      "outputs": []
    },
    {
      "cell_type": "markdown",
      "source": [
        "## Find Valid Pose-Label Folder Pairs"
      ],
      "metadata": {
        "id": "ed8NSNasbPPW"
      }
    },
    {
      "cell_type": "code",
      "source": [
        "import os\n",
        "\n",
        "base_dir = \"/content/VM\"\n",
        "dirs = sorted([d for d in os.listdir(base_dir) if os.path.isdir(os.path.join(base_dir, d))])\n",
        "\n",
        "train_pairs = []\n",
        "val_pairs = []\n",
        "\n",
        "for d in dirs:\n",
        "    if d.startswith(\"TS_\"):\n",
        "        ts = d\n",
        "        tl = d.replace(\"TS_\", \"TL_\")\n",
        "        if tl in dirs:\n",
        "            train_pairs.append((ts, tl))\n",
        "    if d.startswith(\"VS_\"):\n",
        "        vs = d\n",
        "        vl = d.replace(\"VS_\", \"VL_\")\n",
        "        if vl in dirs:\n",
        "            val_pairs.append((vs, vl))\n",
        "\n",
        "print(\"Train pairs:\", len(train_pairs))\n",
        "print(\"Val pairs:\", len(val_pairs))"
      ],
      "metadata": {
        "colab": {
          "base_uri": "https://localhost:8080/"
        },
        "id": "I5tLrdhk6D5S",
        "outputId": "9cac64e9-7b46-49fa-e75c-d030194503e8"
      },
      "execution_count": null,
      "outputs": [
        {
          "output_type": "stream",
          "name": "stdout",
          "text": [
            "Train pairs: 5\n",
            "Val pairs: 5\n"
          ]
        }
      ]
    },
    {
      "cell_type": "markdown",
      "source": [
        "## Define LSTM Dataset Class"
      ],
      "metadata": {
        "id": "lQgIF7IMbFwy"
      }
    },
    {
      "cell_type": "code",
      "source": [
        "## Define LSTM Dataset Class\n",
        "\n",
        "label_map = {0:0, 7:1, 8:2, 12:3, 13:4, 14:5}\n",
        "\n",
        "class PoseAbnormalLSTM_Dataset(Dataset):\n",
        "    def __init__(self, pose_csv, label_csv, seq_len=15, stride=5, person_max=3):\n",
        "        self.seq_len = seq_len\n",
        "        self.stride = stride\n",
        "        self.person_max = person_max\n",
        "        self.pose_df = pd.read_csv(pose_csv)\n",
        "        self.label_df = pd.read_csv(label_csv)\n",
        "        self.frames = sorted(self.pose_df['frame'].unique())\n",
        "        self.n_frames = len(self.frames)\n",
        "        self.start_idxs = [i for i in range(0, self.n_frames - seq_len + 1, stride)]\n",
        "\n",
        "    def __len__(self):\n",
        "        return len(self.start_idxs)\n",
        "\n",
        "    def __getitem__(self, idx):\n",
        "        start = self.start_idxs[idx]\n",
        "        frames = self.frames[start:start+self.seq_len]\n",
        "        pose_seq = np.zeros((self.seq_len, self.person_max, 34), dtype=np.float32)\n",
        "        label_seq = np.zeros((self.seq_len,), dtype=np.int64)\n",
        "        for i, frame in enumerate(frames):\n",
        "            frame_pose = self.pose_df[self.pose_df['frame'] == frame]\n",
        "            frame_pose = frame_pose.sort_values('person_id').reset_index(drop=True)\n",
        "            for j in range(min(self.person_max, len(frame_pose))):\n",
        "                row = frame_pose.iloc[j]\n",
        "                coords = row.iloc[2:].to_numpy()\n",
        "                coords = np.nan_to_num(coords, nan=0.0)\n",
        "                pose_seq[i, j, :] = coords\n",
        "            label_row = self.label_df[self.label_df['frame'] == frame]\n",
        "            if len(label_row) > 0:\n",
        "                raw_label = int(label_row['label'].values[0])\n",
        "                label_seq[i] = label_map.get(raw_label, 0)\n",
        "            else:\n",
        "                label_seq[i] = 0\n",
        "        pose_seq = pose_seq.reshape(self.seq_len, self.person_max * 34)\n",
        "        return torch.tensor(pose_seq), torch.tensor(label_seq)\n"
      ],
      "metadata": {
        "id": "oGVrlQhfs7KD"
      },
      "execution_count": null,
      "outputs": []
    },
    {
      "cell_type": "markdown",
      "source": [
        "## Build Train/Val Dataset and DataLoader"
      ],
      "metadata": {
        "id": "x2grfozobovJ"
      }
    },
    {
      "cell_type": "code",
      "source": [
        "from glob import glob\n",
        "\n",
        "def build_datasets(base_dir, pair_list):\n",
        "    datasets = []\n",
        "    for pose_folder, label_folder in pair_list:\n",
        "        pose_dir = os.path.join(base_dir, pose_folder)\n",
        "        label_dir = os.path.join(base_dir, label_folder)\n",
        "        pose_files = sorted(glob(f\"{pose_dir}/*_pose.csv\"))\n",
        "        label_files = sorted([f for f in glob(f\"{label_dir}/*.csv\") if \"_pose.csv\" not in f])\n",
        "        pose_dict = {os.path.basename(f).replace(\"_pose.csv\", \"\"): f for f in pose_files}\n",
        "        label_dict = {os.path.basename(f).replace(\".csv\", \"\"): f for f in label_files}\n",
        "        common_keys = set(pose_dict.keys()) & set(label_dict.keys())\n",
        "        for key in common_keys:\n",
        "            datasets.append(PoseAbnormalLSTM_Dataset(pose_dict[key], label_dict[key]))\n",
        "    return datasets\n",
        "\n",
        "train_dataset_list = build_datasets(base_dir, train_pairs)\n",
        "val_dataset_list   = build_datasets(base_dir, val_pairs)\n",
        "\n",
        "train_full_dataset = ConcatDataset(train_dataset_list)\n",
        "val_full_dataset   = ConcatDataset(val_dataset_list)\n",
        "\n",
        "train_dataloader = DataLoader(train_full_dataset, batch_size=config[\"batch_size\"], shuffle=True, num_workers=2)\n",
        "val_dataloader = DataLoader(val_full_dataset, batch_size=config[\"batch_size\"], shuffle=False, num_workers=2)"
      ],
      "metadata": {
        "id": "tQ-7d6wYZj96"
      },
      "execution_count": null,
      "outputs": []
    },
    {
      "cell_type": "markdown",
      "source": [
        "## DataLoader Sanity Check"
      ],
      "metadata": {
        "id": "MR7EQX0kbr3c"
      }
    },
    {
      "cell_type": "code",
      "source": [
        "for x, y in train_dataloader:\n",
        "    print(\"Train Pose batch shape:\", x.shape)\n",
        "    print(\"Train Label batch shape:\", y.shape)\n",
        "    break\n",
        "\n",
        "for x, y in val_dataloader:\n",
        "    print(\"Val Pose batch shape:\", x.shape)\n",
        "    print(\"Val Label batch shape:\", y.shape)\n",
        "    break"
      ],
      "metadata": {
        "colab": {
          "base_uri": "https://localhost:8080/"
        },
        "id": "QeSwdtFZakyI",
        "outputId": "f7a75ae0-b11e-48dc-a422-adb85dea5dc9"
      },
      "execution_count": null,
      "outputs": [
        {
          "output_type": "stream",
          "name": "stdout",
          "text": [
            "Train Pose batch shape: torch.Size([32, 15, 102])\n",
            "Train Label batch shape: torch.Size([32, 15])\n",
            "Val Pose batch shape: torch.Size([32, 15, 102])\n",
            "Val Label batch shape: torch.Size([32, 15])\n"
          ]
        }
      ]
    },
    {
      "cell_type": "markdown",
      "source": [
        "# 3. Training"
      ],
      "metadata": {
        "id": "afIKXkDfcb1S"
      }
    },
    {
      "cell_type": "markdown",
      "source": [
        "## Import & WANDB Setup"
      ],
      "metadata": {
        "id": "6nkj-Ta1kJYs"
      }
    },
    {
      "cell_type": "code",
      "source": [
        "import torch\n",
        "import torch.nn as nn\n",
        "import torch.optim as optim\n",
        "import wandb\n",
        "\n",
        "wandb.login()\n",
        "\n",
        "# config (이 부분은 기존과 동일하게, dict로 정리)\n",
        "config = {\n",
        "    \"input_dim\": 102,\n",
        "    \"hidden_dim\": 128,\n",
        "    \"num_layers\": 1,\n",
        "    \"num_classes\": 6,\n",
        "    \"dropout\": 0.2,\n",
        "    \"lr\": 1e-3,\n",
        "    \"batch_size\": 32,\n",
        "    \"num_epochs\": 20,\n",
        "    \"device\": \"cuda\" if torch.cuda.is_available() else \"cpu\"\n",
        "}\n",
        "\n",
        "wandb.init(\n",
        "    project=\"pose_abnormal_lstm\",\n",
        "    name=\"run_v1\",\n",
        "    config=config\n",
        ")"
      ],
      "metadata": {
        "colab": {
          "base_uri": "https://localhost:8080/",
          "height": 293
        },
        "id": "WsxyPaXpkMDW",
        "outputId": "5e8fddcd-f674-4f17-cefe-1721b95339b7"
      },
      "execution_count": null,
      "outputs": [
        {
          "output_type": "display_data",
          "data": {
            "text/plain": [
              "<IPython.core.display.Javascript object>"
            ],
            "application/javascript": [
              "\n",
              "        window._wandbApiKey = new Promise((resolve, reject) => {\n",
              "            function loadScript(url) {\n",
              "            return new Promise(function(resolve, reject) {\n",
              "                let newScript = document.createElement(\"script\");\n",
              "                newScript.onerror = reject;\n",
              "                newScript.onload = resolve;\n",
              "                document.body.appendChild(newScript);\n",
              "                newScript.src = url;\n",
              "            });\n",
              "            }\n",
              "            loadScript(\"https://cdn.jsdelivr.net/npm/postmate/build/postmate.min.js\").then(() => {\n",
              "            const iframe = document.createElement('iframe')\n",
              "            iframe.style.cssText = \"width:0;height:0;border:none\"\n",
              "            document.body.appendChild(iframe)\n",
              "            const handshake = new Postmate({\n",
              "                container: iframe,\n",
              "                url: 'https://wandb.ai/authorize'\n",
              "            });\n",
              "            const timeout = setTimeout(() => reject(\"Couldn't auto authenticate\"), 5000)\n",
              "            handshake.then(function(child) {\n",
              "                child.on('authorize', data => {\n",
              "                    clearTimeout(timeout)\n",
              "                    resolve(data)\n",
              "                });\n",
              "            });\n",
              "            })\n",
              "        });\n",
              "    "
            ]
          },
          "metadata": {}
        },
        {
          "output_type": "stream",
          "name": "stderr",
          "text": [
            "\u001b[34m\u001b[1mwandb\u001b[0m: Logging into wandb.ai. (Learn how to deploy a W&B server locally: https://wandb.me/wandb-server)\n",
            "\u001b[34m\u001b[1mwandb\u001b[0m: You can find your API key in your browser here: https://wandb.ai/authorize\n",
            "wandb: Paste an API key from your profile and hit enter:"
          ]
        },
        {
          "name": "stdout",
          "output_type": "stream",
          "text": [
            " ··········\n"
          ]
        },
        {
          "output_type": "stream",
          "name": "stderr",
          "text": [
            "\u001b[34m\u001b[1mwandb\u001b[0m: \u001b[33mWARNING\u001b[0m If you're specifying your api key in code, ensure this code is not shared publicly.\n",
            "\u001b[34m\u001b[1mwandb\u001b[0m: \u001b[33mWARNING\u001b[0m Consider setting the WANDB_API_KEY environment variable, or running `wandb login` from the command line.\n",
            "\u001b[34m\u001b[1mwandb\u001b[0m: No netrc file found, creating one.\n",
            "\u001b[34m\u001b[1mwandb\u001b[0m: Appending key for api.wandb.ai to your netrc file: /root/.netrc\n",
            "\u001b[34m\u001b[1mwandb\u001b[0m: Currently logged in as: \u001b[33mopj369\u001b[0m (\u001b[33mopj369-hanyang-university\u001b[0m) to \u001b[32mhttps://api.wandb.ai\u001b[0m. Use \u001b[1m`wandb login --relogin`\u001b[0m to force relogin\n"
          ]
        },
        {
          "output_type": "display_data",
          "data": {
            "text/plain": [
              "<IPython.core.display.HTML object>"
            ],
            "text/html": [
              "Tracking run with wandb version 0.19.11"
            ]
          },
          "metadata": {}
        },
        {
          "output_type": "display_data",
          "data": {
            "text/plain": [
              "<IPython.core.display.HTML object>"
            ],
            "text/html": [
              "Run data is saved locally in <code>/content/wandb/run-20250529_151917-cx52m7kx</code>"
            ]
          },
          "metadata": {}
        },
        {
          "output_type": "display_data",
          "data": {
            "text/plain": [
              "<IPython.core.display.HTML object>"
            ],
            "text/html": [
              "Syncing run <strong><a href='https://wandb.ai/opj369-hanyang-university/pose_abnormal_lstm/runs/cx52m7kx' target=\"_blank\">run_v1</a></strong> to <a href='https://wandb.ai/opj369-hanyang-university/pose_abnormal_lstm' target=\"_blank\">Weights & Biases</a> (<a href='https://wandb.me/developer-guide' target=\"_blank\">docs</a>)<br>"
            ]
          },
          "metadata": {}
        },
        {
          "output_type": "display_data",
          "data": {
            "text/plain": [
              "<IPython.core.display.HTML object>"
            ],
            "text/html": [
              " View project at <a href='https://wandb.ai/opj369-hanyang-university/pose_abnormal_lstm' target=\"_blank\">https://wandb.ai/opj369-hanyang-university/pose_abnormal_lstm</a>"
            ]
          },
          "metadata": {}
        },
        {
          "output_type": "display_data",
          "data": {
            "text/plain": [
              "<IPython.core.display.HTML object>"
            ],
            "text/html": [
              " View run at <a href='https://wandb.ai/opj369-hanyang-university/pose_abnormal_lstm/runs/cx52m7kx' target=\"_blank\">https://wandb.ai/opj369-hanyang-university/pose_abnormal_lstm/runs/cx52m7kx</a>"
            ]
          },
          "metadata": {}
        },
        {
          "output_type": "execute_result",
          "data": {
            "text/html": [
              "<button onClick=\"this.nextSibling.style.display='block';this.style.display='none';\">Display W&B run</button><iframe src='https://wandb.ai/opj369-hanyang-university/pose_abnormal_lstm/runs/cx52m7kx?jupyter=true' style='border:none;width:100%;height:420px;display:none;'></iframe>"
            ],
            "text/plain": [
              "<wandb.sdk.wandb_run.Run at 0x7ada8eadec10>"
            ]
          },
          "metadata": {},
          "execution_count": 8
        }
      ]
    },
    {
      "cell_type": "markdown",
      "source": [
        "## Model & Training Utilities"
      ],
      "metadata": {
        "id": "GfBHfWVgcf8Y"
      }
    },
    {
      "cell_type": "code",
      "source": [
        "class PoseLSTMNet(nn.Module):\n",
        "    def __init__(self, input_dim, hidden_dim, num_layers, num_classes, dropout):\n",
        "        super().__init__()\n",
        "        self.lstm = nn.LSTM(input_dim, hidden_dim, num_layers, batch_first=True, dropout=dropout if num_layers > 1 else 0)\n",
        "        self.fc = nn.Linear(hidden_dim, num_classes)\n",
        "    def forward(self, x):\n",
        "        out, _ = self.lstm(x)\n",
        "        out = self.fc(out)\n",
        "        return out\n",
        "\n",
        "model = PoseLSTMNet(\n",
        "    input_dim=config[\"input_dim\"],\n",
        "    hidden_dim=config[\"hidden_dim\"],\n",
        "    num_layers=config[\"num_layers\"],\n",
        "    num_classes=config[\"num_classes\"],\n",
        "    dropout=config[\"dropout\"]\n",
        ").to(config[\"device\"])\n",
        "\n",
        "criterion = nn.CrossEntropyLoss()\n",
        "optimizer = optim.Adam(model.parameters(), lr=config[\"lr\"])\n",
        "scheduler = optim.lr_scheduler.ReduceLROnPlateau(optimizer, mode='min', factor=0.5, patience=3)"
      ],
      "metadata": {
        "id": "rL581iqjbw8C"
      },
      "execution_count": null,
      "outputs": []
    },
    {
      "cell_type": "markdown",
      "source": [
        "## Training & Validation Loop (with wandb, tqdm)"
      ],
      "metadata": {
        "id": "ufmPMfnUnvkQ"
      }
    },
    {
      "cell_type": "code",
      "source": [
        "from tqdm import tqdm\n",
        "\n",
        "num_epochs = config[\"num_epochs\"]\n",
        "device = config[\"device\"]\n",
        "\n",
        "for epoch in range(num_epochs):\n",
        "    # ----- Training -----\n",
        "    model.train()\n",
        "    running_loss, total, correct = 0.0, 0, 0\n",
        "    loop = tqdm(enumerate(train_dataloader), total=len(train_dataloader), desc=f\"Epoch {epoch+1}/{num_epochs} [Train]\")\n",
        "\n",
        "    for i, (X, y) in loop:\n",
        "        X, y = X.to(device).float(), y.to(device).long()\n",
        "        out = model(X)  # (B, seq, num_classes)\n",
        "        out_flat = out.view(-1, config[\"num_classes\"])\n",
        "        y_flat = y.view(-1)\n",
        "        loss = criterion(out_flat, y_flat)\n",
        "        optimizer.zero_grad()\n",
        "        loss.backward()\n",
        "        optimizer.step()\n",
        "        running_loss += loss.item() * X.size(0)\n",
        "        preds = out_flat.argmax(dim=1)\n",
        "        correct += (preds == y_flat).sum().item()\n",
        "        total += y_flat.size(0)\n",
        "\n",
        "        # [optional] Per-iteration log (많으면 느려질 수 있음, epoch마다만 해도 OK)\n",
        "        wandb.log({\"train/loss_iter\": loss.item()}, step=epoch * len(train_dataloader) + i)\n",
        "        loop.set_postfix(loss=loss.item())\n",
        "\n",
        "    train_loss = running_loss / len(train_dataloader.dataset)\n",
        "    train_acc = correct / total\n",
        "\n",
        "    # ----- Validation -----\n",
        "    model.eval()\n",
        "    val_loss, val_total, val_correct = 0.0, 0, 0\n",
        "    with torch.no_grad():\n",
        "        loop_val = tqdm(val_dataloader, total=len(val_dataloader), desc=f\"Epoch {epoch+1}/{num_epochs} [Val]\")\n",
        "        for Xv, yv in loop_val:\n",
        "            Xv, yv = Xv.to(device).float(), yv.to(device).long()\n",
        "            outv = model(Xv)\n",
        "            outv_flat = outv.view(-1, config[\"num_classes\"])\n",
        "            yv_flat = yv.view(-1)\n",
        "            lossv = criterion(outv_flat, yv_flat)\n",
        "            val_loss += lossv.item() * Xv.size(0)\n",
        "            predsv = outv_flat.argmax(dim=1)\n",
        "            val_correct += (predsv == yv_flat).sum().item()\n",
        "            val_total += yv_flat.size(0)\n",
        "\n",
        "    val_loss = val_loss / len(val_dataloader.dataset)\n",
        "    val_acc = val_correct / val_total\n",
        "\n",
        "    # wandb epoch summary log\n",
        "    wandb.log({\n",
        "        \"train/epoch_loss\": train_loss,\n",
        "        \"train/epoch_acc\": train_acc,\n",
        "        \"val/epoch_loss\": val_loss,\n",
        "        \"val/epoch_acc\": val_acc,\n",
        "        \"epoch\": epoch + 1\n",
        "    }, step=(epoch+1)*len(train_dataloader))\n",
        "\n",
        "    scheduler.step(val_loss)\n",
        "\n",
        "    print(f\"Epoch {epoch+1}: train_loss={train_loss:.4f}, train_acc={train_acc:.4f} | val_loss={val_loss:.4f}, val_acc={val_acc:.4f}\")"
      ],
      "metadata": {
        "colab": {
          "base_uri": "https://localhost:8080/"
        },
        "id": "GL56hulqk4--",
        "outputId": "c3f33d9b-f029-45a7-849d-7e1c4a253906"
      },
      "execution_count": null,
      "outputs": [
        {
          "output_type": "stream",
          "name": "stderr",
          "text": [
            "Epoch 1/20 [Train]: 100%|██████████| 3412/3412 [12:26<00:00,  4.57it/s, loss=0.887]\n",
            "Epoch 1/20 [Val]: 100%|██████████| 428/428 [01:30<00:00,  4.75it/s]"
          ]
        },
        {
          "output_type": "stream",
          "name": "stdout",
          "text": [
            "Epoch 1: train_loss=0.6993, train_acc=0.7304 | val_loss=0.6499, val_acc=0.7593\n"
          ]
        },
        {
          "output_type": "stream",
          "name": "stderr",
          "text": [
            "\n",
            "Epoch 2/20 [Train]: 100%|██████████| 3412/3412 [12:33<00:00,  4.53it/s, loss=0.612]\n",
            "Epoch 2/20 [Val]: 100%|██████████| 428/428 [01:31<00:00,  4.68it/s]"
          ]
        },
        {
          "output_type": "stream",
          "name": "stdout",
          "text": [
            "Epoch 2: train_loss=0.6504, train_acc=0.7434 | val_loss=0.6350, val_acc=0.7647\n"
          ]
        },
        {
          "output_type": "stream",
          "name": "stderr",
          "text": [
            "\n",
            "Epoch 3/20 [Train]: 100%|██████████| 3412/3412 [12:40<00:00,  4.49it/s, loss=0.588]\n",
            "Epoch 3/20 [Val]: 100%|██████████| 428/428 [01:30<00:00,  4.71it/s]"
          ]
        },
        {
          "output_type": "stream",
          "name": "stdout",
          "text": [
            "Epoch 3: train_loss=0.6320, train_acc=0.7485 | val_loss=0.6294, val_acc=0.7612\n"
          ]
        },
        {
          "output_type": "stream",
          "name": "stderr",
          "text": [
            "\n",
            "Epoch 4/20 [Train]: 100%|██████████| 3412/3412 [12:36<00:00,  4.51it/s, loss=0.542]\n",
            "Epoch 4/20 [Val]: 100%|██████████| 428/428 [01:30<00:00,  4.72it/s]"
          ]
        },
        {
          "output_type": "stream",
          "name": "stdout",
          "text": [
            "Epoch 4: train_loss=0.6275, train_acc=0.7495 | val_loss=0.6251, val_acc=0.7580\n"
          ]
        },
        {
          "output_type": "stream",
          "name": "stderr",
          "text": [
            "\n",
            "Epoch 5/20 [Train]: 100%|██████████| 3412/3412 [12:36<00:00,  4.51it/s, loss=0.746]\n",
            "Epoch 5/20 [Val]: 100%|██████████| 428/428 [01:30<00:00,  4.75it/s]"
          ]
        },
        {
          "output_type": "stream",
          "name": "stdout",
          "text": [
            "Epoch 5: train_loss=0.6203, train_acc=0.7494 | val_loss=0.7089, val_acc=0.7231\n"
          ]
        },
        {
          "output_type": "stream",
          "name": "stderr",
          "text": [
            "\n",
            "Epoch 6/20 [Train]: 100%|██████████| 3412/3412 [12:38<00:00,  4.50it/s, loss=0.957]\n",
            "Epoch 6/20 [Val]: 100%|██████████| 428/428 [01:30<00:00,  4.76it/s]"
          ]
        },
        {
          "output_type": "stream",
          "name": "stdout",
          "text": [
            "Epoch 6: train_loss=0.6129, train_acc=0.7509 | val_loss=0.6002, val_acc=0.7682\n"
          ]
        },
        {
          "output_type": "stream",
          "name": "stderr",
          "text": [
            "\n",
            "Epoch 7/20 [Train]: 100%|██████████| 3412/3412 [12:38<00:00,  4.50it/s, loss=0.889]\n",
            "Epoch 7/20 [Val]: 100%|██████████| 428/428 [01:32<00:00,  4.64it/s]"
          ]
        },
        {
          "output_type": "stream",
          "name": "stdout",
          "text": [
            "Epoch 7: train_loss=0.6028, train_acc=0.7567 | val_loss=0.6326, val_acc=0.7687\n"
          ]
        },
        {
          "output_type": "stream",
          "name": "stderr",
          "text": [
            "\n",
            "Epoch 8/20 [Train]: 100%|██████████| 3412/3412 [12:34<00:00,  4.52it/s, loss=0.448]\n",
            "Epoch 8/20 [Val]: 100%|██████████| 428/428 [01:30<00:00,  4.73it/s]"
          ]
        },
        {
          "output_type": "stream",
          "name": "stdout",
          "text": [
            "Epoch 8: train_loss=0.6055, train_acc=0.7564 | val_loss=0.6330, val_acc=0.7656\n"
          ]
        },
        {
          "output_type": "stream",
          "name": "stderr",
          "text": [
            "\n",
            "Epoch 9/20 [Train]: 100%|██████████| 3412/3412 [12:37<00:00,  4.50it/s, loss=0.627]\n",
            "Epoch 9/20 [Val]: 100%|██████████| 428/428 [01:30<00:00,  4.74it/s]"
          ]
        },
        {
          "output_type": "stream",
          "name": "stdout",
          "text": [
            "Epoch 9: train_loss=0.6067, train_acc=0.7584 | val_loss=0.6102, val_acc=0.7700\n"
          ]
        },
        {
          "output_type": "stream",
          "name": "stderr",
          "text": [
            "\n",
            "Epoch 10/20 [Train]: 100%|██████████| 3412/3412 [12:36<00:00,  4.51it/s, loss=0.66]\n",
            "Epoch 10/20 [Val]: 100%|██████████| 428/428 [01:30<00:00,  4.74it/s]"
          ]
        },
        {
          "output_type": "stream",
          "name": "stdout",
          "text": [
            "Epoch 10: train_loss=0.5958, train_acc=0.7608 | val_loss=0.5977, val_acc=0.7788\n"
          ]
        },
        {
          "output_type": "stream",
          "name": "stderr",
          "text": [
            "\n",
            "Epoch 11/20 [Train]: 100%|██████████| 3412/3412 [12:36<00:00,  4.51it/s, loss=0.636]\n",
            "Epoch 11/20 [Val]: 100%|██████████| 428/428 [01:31<00:00,  4.67it/s]"
          ]
        },
        {
          "output_type": "stream",
          "name": "stdout",
          "text": [
            "Epoch 11: train_loss=0.5970, train_acc=0.7591 | val_loss=0.5956, val_acc=0.7764\n"
          ]
        },
        {
          "output_type": "stream",
          "name": "stderr",
          "text": [
            "\n",
            "Epoch 12/20 [Train]: 100%|██████████| 3412/3412 [12:34<00:00,  4.52it/s, loss=0.532]\n",
            "Epoch 12/20 [Val]: 100%|██████████| 428/428 [01:30<00:00,  4.74it/s]"
          ]
        },
        {
          "output_type": "stream",
          "name": "stdout",
          "text": [
            "Epoch 12: train_loss=0.5947, train_acc=0.7593 | val_loss=0.6032, val_acc=0.7685\n"
          ]
        },
        {
          "output_type": "stream",
          "name": "stderr",
          "text": [
            "\n",
            "Epoch 13/20 [Train]: 100%|██████████| 3412/3412 [12:45<00:00,  4.46it/s, loss=0.561]\n",
            "Epoch 13/20 [Val]: 100%|██████████| 428/428 [01:32<00:00,  4.63it/s]"
          ]
        },
        {
          "output_type": "stream",
          "name": "stdout",
          "text": [
            "Epoch 13: train_loss=0.5970, train_acc=0.7599 | val_loss=0.5918, val_acc=0.7779\n"
          ]
        },
        {
          "output_type": "stream",
          "name": "stderr",
          "text": [
            "\n",
            "Epoch 14/20 [Train]: 100%|██████████| 3412/3412 [12:39<00:00,  4.49it/s, loss=0.477]\n",
            "Epoch 14/20 [Val]: 100%|██████████| 428/428 [01:30<00:00,  4.71it/s]"
          ]
        },
        {
          "output_type": "stream",
          "name": "stdout",
          "text": [
            "Epoch 14: train_loss=0.5864, train_acc=0.7636 | val_loss=0.5904, val_acc=0.7763\n"
          ]
        },
        {
          "output_type": "stream",
          "name": "stderr",
          "text": [
            "\n",
            "Epoch 15/20 [Train]: 100%|██████████| 3412/3412 [12:39<00:00,  4.49it/s, loss=0.404]\n",
            "Epoch 15/20 [Val]: 100%|██████████| 428/428 [01:31<00:00,  4.68it/s]"
          ]
        },
        {
          "output_type": "stream",
          "name": "stdout",
          "text": [
            "Epoch 15: train_loss=0.5834, train_acc=0.7646 | val_loss=0.5787, val_acc=0.7851\n"
          ]
        },
        {
          "output_type": "stream",
          "name": "stderr",
          "text": [
            "\n",
            "Epoch 16/20 [Train]: 100%|██████████| 3412/3412 [12:39<00:00,  4.50it/s, loss=0.525]\n",
            "Epoch 16/20 [Val]: 100%|██████████| 428/428 [01:30<00:00,  4.72it/s]"
          ]
        },
        {
          "output_type": "stream",
          "name": "stdout",
          "text": [
            "Epoch 16: train_loss=0.5871, train_acc=0.7638 | val_loss=0.5856, val_acc=0.7798\n"
          ]
        },
        {
          "output_type": "stream",
          "name": "stderr",
          "text": [
            "\n",
            "Epoch 17/20 [Train]: 100%|██████████| 3412/3412 [12:35<00:00,  4.52it/s, loss=0.378]\n",
            "Epoch 17/20 [Val]: 100%|██████████| 428/428 [01:29<00:00,  4.76it/s]"
          ]
        },
        {
          "output_type": "stream",
          "name": "stdout",
          "text": [
            "Epoch 17: train_loss=0.5774, train_acc=0.7672 | val_loss=0.5946, val_acc=0.7752\n"
          ]
        },
        {
          "output_type": "stream",
          "name": "stderr",
          "text": [
            "\n",
            "Epoch 18/20 [Train]: 100%|██████████| 3412/3412 [12:37<00:00,  4.50it/s, loss=0.632]\n",
            "Epoch 18/20 [Val]: 100%|██████████| 428/428 [01:31<00:00,  4.69it/s]"
          ]
        },
        {
          "output_type": "stream",
          "name": "stdout",
          "text": [
            "Epoch 18: train_loss=0.5728, train_acc=0.7682 | val_loss=0.5699, val_acc=0.7844\n"
          ]
        },
        {
          "output_type": "stream",
          "name": "stderr",
          "text": [
            "\n",
            "Epoch 19/20 [Train]: 100%|██████████| 3412/3412 [12:35<00:00,  4.52it/s, loss=0.563]\n",
            "Epoch 19/20 [Val]: 100%|██████████| 428/428 [01:30<00:00,  4.71it/s]"
          ]
        },
        {
          "output_type": "stream",
          "name": "stdout",
          "text": [
            "Epoch 19: train_loss=0.5726, train_acc=0.7673 | val_loss=0.5799, val_acc=0.7794\n"
          ]
        },
        {
          "output_type": "stream",
          "name": "stderr",
          "text": [
            "\n",
            "Epoch 20/20 [Train]: 100%|██████████| 3412/3412 [12:43<00:00,  4.47it/s, loss=0.685]\n",
            "Epoch 20/20 [Val]: 100%|██████████| 428/428 [01:31<00:00,  4.70it/s]"
          ]
        },
        {
          "output_type": "stream",
          "name": "stdout",
          "text": [
            "Epoch 20: train_loss=0.5769, train_acc=0.7657 | val_loss=0.5842, val_acc=0.7824\n"
          ]
        },
        {
          "output_type": "stream",
          "name": "stderr",
          "text": [
            "\n"
          ]
        }
      ]
    },
    {
      "cell_type": "markdown",
      "source": [
        "## Save Model (and log with wandb)"
      ],
      "metadata": {
        "id": "ZD7pQdxwn6Zz"
      }
    },
    {
      "cell_type": "code",
      "source": [
        "torch.save(model.state_dict(), \"pose_lstm_multiclass.pt\")\n",
        "wandb.save(\"pose_lstm_multiclass.pt\")"
      ],
      "metadata": {
        "colab": {
          "base_uri": "https://localhost:8080/"
        },
        "id": "fXgmBHtreYQv",
        "outputId": "db7c6d5c-0273-42aa-fd01-abf01bcc1298"
      },
      "execution_count": null,
      "outputs": [
        {
          "output_type": "execute_result",
          "data": {
            "text/plain": [
              "['/content/wandb/run-20250529_151917-cx52m7kx/files/pose_lstm_multiclass.pt']"
            ]
          },
          "metadata": {},
          "execution_count": 11
        }
      ]
    },
    {
      "cell_type": "code",
      "source": [
        "## Todo : 1) best model save로 바꿀 것, 2) label을 xml에서 그대로 가져오는게 아니라 입력 seq만큼 미뤄서 들어가도록 할것(이건 조교님께 여쭤보고)"
      ],
      "metadata": {
        "id": "PFnTIuAm1B4d"
      },
      "execution_count": null,
      "outputs": []
    }
  ]
}